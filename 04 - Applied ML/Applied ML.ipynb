{
 "cells": [
  {
   "cell_type": "markdown",
   "metadata": {},
   "source": [
    "# Homework 4: Applied Machine Learning"
   ]
  },
  {
   "cell_type": "code",
   "execution_count": 1,
   "metadata": {
    "collapsed": false
   },
   "outputs": [
    {
     "name": "stderr",
     "output_type": "stream",
     "text": [
      "/Users/dmartr/anaconda/lib/python3.5/site-packages/sklearn/cross_validation.py:44: DeprecationWarning: This module was deprecated in version 0.18 in favor of the model_selection module into which all the refactored classes and functions are moved. Also note that the interface of the new CV iterators are different from that of this module. This module will be removed in 0.20.\n",
      "  \"This module will be removed in 0.20.\", DeprecationWarning)\n"
     ]
    }
   ],
   "source": [
    "import pandas as pd                                     \n",
    "import numpy as np                                              \n",
    "import matplotlib.pyplot as plt \n",
    "import scipy.stats.mstats as ssm\n",
    "import sklearn\n",
    "from sklearn import preprocessing\n",
    "from sklearn.cross_validation import KFold, cross_val_score\n",
    "from sklearn.ensemble import RandomForestClassifier\n",
    "from sklearn.model_selection import train_test_split\n",
    "from sklearn.cluster import KMeans\n",
    "from sklearn.metrics import silhouette_samples, silhouette_score\n",
    "from sklearn.decomposition import PCA\n",
    "from sklearn.preprocessing import scale\n",
    "import random\n",
    "\n",
    "%matplotlib inline"
   ]
  },
  {
   "cell_type": "markdown",
   "metadata": {},
   "source": [
    "First we import the data frame and we take a look at it: "
   ]
  },
  {
   "cell_type": "code",
   "execution_count": 2,
   "metadata": {
    "collapsed": false
   },
   "outputs": [
    {
     "data": {
      "text/html": [
       "<div>\n",
       "<table border=\"1\" class=\"dataframe\">\n",
       "  <thead>\n",
       "    <tr style=\"text-align: right;\">\n",
       "      <th></th>\n",
       "      <th>player</th>\n",
       "      <th>club</th>\n",
       "      <th>leagueCountry</th>\n",
       "      <th>birthday</th>\n",
       "      <th>height</th>\n",
       "      <th>weight</th>\n",
       "      <th>position</th>\n",
       "      <th>games</th>\n",
       "      <th>victories</th>\n",
       "      <th>ties</th>\n",
       "      <th>...</th>\n",
       "      <th>rater2</th>\n",
       "      <th>refNum</th>\n",
       "      <th>refCountry</th>\n",
       "      <th>Alpha_3</th>\n",
       "      <th>meanIAT</th>\n",
       "      <th>nIAT</th>\n",
       "      <th>seIAT</th>\n",
       "      <th>meanExp</th>\n",
       "      <th>nExp</th>\n",
       "      <th>seExp</th>\n",
       "    </tr>\n",
       "    <tr>\n",
       "      <th>playerShort</th>\n",
       "      <th></th>\n",
       "      <th></th>\n",
       "      <th></th>\n",
       "      <th></th>\n",
       "      <th></th>\n",
       "      <th></th>\n",
       "      <th></th>\n",
       "      <th></th>\n",
       "      <th></th>\n",
       "      <th></th>\n",
       "      <th></th>\n",
       "      <th></th>\n",
       "      <th></th>\n",
       "      <th></th>\n",
       "      <th></th>\n",
       "      <th></th>\n",
       "      <th></th>\n",
       "      <th></th>\n",
       "      <th></th>\n",
       "      <th></th>\n",
       "      <th></th>\n",
       "    </tr>\n",
       "  </thead>\n",
       "  <tbody>\n",
       "    <tr>\n",
       "      <th>lucas-wilchez</th>\n",
       "      <td>Lucas Wilchez</td>\n",
       "      <td>Real Zaragoza</td>\n",
       "      <td>Spain</td>\n",
       "      <td>31.08.1983</td>\n",
       "      <td>177.0</td>\n",
       "      <td>72.0</td>\n",
       "      <td>Attacking Midfielder</td>\n",
       "      <td>1</td>\n",
       "      <td>0</td>\n",
       "      <td>0</td>\n",
       "      <td>...</td>\n",
       "      <td>0.50</td>\n",
       "      <td>1</td>\n",
       "      <td>1</td>\n",
       "      <td>GRC</td>\n",
       "      <td>0.326391</td>\n",
       "      <td>712.0</td>\n",
       "      <td>0.000564</td>\n",
       "      <td>0.396000</td>\n",
       "      <td>750.0</td>\n",
       "      <td>0.002696</td>\n",
       "    </tr>\n",
       "    <tr>\n",
       "      <th>john-utaka</th>\n",
       "      <td>John Utaka</td>\n",
       "      <td>Montpellier HSC</td>\n",
       "      <td>France</td>\n",
       "      <td>08.01.1982</td>\n",
       "      <td>179.0</td>\n",
       "      <td>82.0</td>\n",
       "      <td>Right Winger</td>\n",
       "      <td>1</td>\n",
       "      <td>0</td>\n",
       "      <td>0</td>\n",
       "      <td>...</td>\n",
       "      <td>0.75</td>\n",
       "      <td>2</td>\n",
       "      <td>2</td>\n",
       "      <td>ZMB</td>\n",
       "      <td>0.203375</td>\n",
       "      <td>40.0</td>\n",
       "      <td>0.010875</td>\n",
       "      <td>-0.204082</td>\n",
       "      <td>49.0</td>\n",
       "      <td>0.061504</td>\n",
       "    </tr>\n",
       "    <tr>\n",
       "      <th>abdon-prats</th>\n",
       "      <td>Abdón Prats</td>\n",
       "      <td>RCD Mallorca</td>\n",
       "      <td>Spain</td>\n",
       "      <td>17.12.1992</td>\n",
       "      <td>181.0</td>\n",
       "      <td>79.0</td>\n",
       "      <td>NaN</td>\n",
       "      <td>1</td>\n",
       "      <td>0</td>\n",
       "      <td>1</td>\n",
       "      <td>...</td>\n",
       "      <td>NaN</td>\n",
       "      <td>3</td>\n",
       "      <td>3</td>\n",
       "      <td>ESP</td>\n",
       "      <td>0.369894</td>\n",
       "      <td>1785.0</td>\n",
       "      <td>0.000229</td>\n",
       "      <td>0.588297</td>\n",
       "      <td>1897.0</td>\n",
       "      <td>0.001002</td>\n",
       "    </tr>\n",
       "    <tr>\n",
       "      <th>pablo-mari</th>\n",
       "      <td>Pablo Marí</td>\n",
       "      <td>RCD Mallorca</td>\n",
       "      <td>Spain</td>\n",
       "      <td>31.08.1993</td>\n",
       "      <td>191.0</td>\n",
       "      <td>87.0</td>\n",
       "      <td>Center Back</td>\n",
       "      <td>1</td>\n",
       "      <td>1</td>\n",
       "      <td>0</td>\n",
       "      <td>...</td>\n",
       "      <td>NaN</td>\n",
       "      <td>3</td>\n",
       "      <td>3</td>\n",
       "      <td>ESP</td>\n",
       "      <td>0.369894</td>\n",
       "      <td>1785.0</td>\n",
       "      <td>0.000229</td>\n",
       "      <td>0.588297</td>\n",
       "      <td>1897.0</td>\n",
       "      <td>0.001002</td>\n",
       "    </tr>\n",
       "    <tr>\n",
       "      <th>ruben-pena</th>\n",
       "      <td>Rubén Peña</td>\n",
       "      <td>Real Valladolid</td>\n",
       "      <td>Spain</td>\n",
       "      <td>18.07.1991</td>\n",
       "      <td>172.0</td>\n",
       "      <td>70.0</td>\n",
       "      <td>Right Midfielder</td>\n",
       "      <td>1</td>\n",
       "      <td>1</td>\n",
       "      <td>0</td>\n",
       "      <td>...</td>\n",
       "      <td>NaN</td>\n",
       "      <td>3</td>\n",
       "      <td>3</td>\n",
       "      <td>ESP</td>\n",
       "      <td>0.369894</td>\n",
       "      <td>1785.0</td>\n",
       "      <td>0.000229</td>\n",
       "      <td>0.588297</td>\n",
       "      <td>1897.0</td>\n",
       "      <td>0.001002</td>\n",
       "    </tr>\n",
       "  </tbody>\n",
       "</table>\n",
       "<p>5 rows × 27 columns</p>\n",
       "</div>"
      ],
      "text/plain": [
       "                      player             club leagueCountry    birthday  \\\n",
       "playerShort                                                               \n",
       "lucas-wilchez  Lucas Wilchez    Real Zaragoza         Spain  31.08.1983   \n",
       "john-utaka        John Utaka  Montpellier HSC        France  08.01.1982   \n",
       "abdon-prats      Abdón Prats     RCD Mallorca         Spain  17.12.1992   \n",
       "pablo-mari        Pablo Marí     RCD Mallorca         Spain  31.08.1993   \n",
       "ruben-pena        Rubén Peña  Real Valladolid         Spain  18.07.1991   \n",
       "\n",
       "               height  weight              position  games  victories  ties  \\\n",
       "playerShort                                                                   \n",
       "lucas-wilchez   177.0    72.0  Attacking Midfielder      1          0     0   \n",
       "john-utaka      179.0    82.0          Right Winger      1          0     0   \n",
       "abdon-prats     181.0    79.0                   NaN      1          0     1   \n",
       "pablo-mari      191.0    87.0           Center Back      1          1     0   \n",
       "ruben-pena      172.0    70.0      Right Midfielder      1          1     0   \n",
       "\n",
       "                 ...     rater2  refNum  refCountry  Alpha_3   meanIAT  \\\n",
       "playerShort      ...                                                     \n",
       "lucas-wilchez    ...       0.50       1           1      GRC  0.326391   \n",
       "john-utaka       ...       0.75       2           2      ZMB  0.203375   \n",
       "abdon-prats      ...        NaN       3           3      ESP  0.369894   \n",
       "pablo-mari       ...        NaN       3           3      ESP  0.369894   \n",
       "ruben-pena       ...        NaN       3           3      ESP  0.369894   \n",
       "\n",
       "                 nIAT     seIAT   meanExp    nExp     seExp  \n",
       "playerShort                                                  \n",
       "lucas-wilchez   712.0  0.000564  0.396000   750.0  0.002696  \n",
       "john-utaka       40.0  0.010875 -0.204082    49.0  0.061504  \n",
       "abdon-prats    1785.0  0.000229  0.588297  1897.0  0.001002  \n",
       "pablo-mari     1785.0  0.000229  0.588297  1897.0  0.001002  \n",
       "ruben-pena     1785.0  0.000229  0.588297  1897.0  0.001002  \n",
       "\n",
       "[5 rows x 27 columns]"
      ]
     },
     "execution_count": 2,
     "metadata": {},
     "output_type": "execute_result"
    }
   ],
   "source": [
    "data = pd.read_csv('CrowdstormingDataJuly1st.csv')\n",
    "data.set_index(data.columns[0], inplace = True)\n",
    "data.head()"
   ]
  },
  {
   "cell_type": "code",
   "execution_count": 3,
   "metadata": {
    "collapsed": false
   },
   "outputs": [
    {
     "data": {
      "text/plain": [
       "player            object\n",
       "club              object\n",
       "leagueCountry     object\n",
       "birthday          object\n",
       "height           float64\n",
       "weight           float64\n",
       "position          object\n",
       "games              int64\n",
       "victories          int64\n",
       "ties               int64\n",
       "defeats            int64\n",
       "goals              int64\n",
       "yellowCards        int64\n",
       "yellowReds         int64\n",
       "redCards           int64\n",
       "photoID           object\n",
       "rater1           float64\n",
       "rater2           float64\n",
       "refNum             int64\n",
       "refCountry         int64\n",
       "Alpha_3           object\n",
       "meanIAT          float64\n",
       "nIAT             float64\n",
       "seIAT            float64\n",
       "meanExp          float64\n",
       "nExp             float64\n",
       "seExp            float64\n",
       "dtype: object"
      ]
     },
     "execution_count": 3,
     "metadata": {},
     "output_type": "execute_result"
    }
   ],
   "source": [
    "#data.set_index(data.columns[0], inplace = True)\n",
    "data.dtypes"
   ]
  },
  {
   "cell_type": "markdown",
   "metadata": {},
   "source": [
    "As we can observe the data column type is not consistent. We need to convert all the data to float, otherwise we might have some trouble processing the random forest classifier."
   ]
  },
  {
   "cell_type": "code",
   "execution_count": 4,
   "metadata": {
    "collapsed": false
   },
   "outputs": [
    {
     "data": {
      "text/plain": [
       "player             int16\n",
       "club                int8\n",
       "leagueCountry       int8\n",
       "birthday           int16\n",
       "height           float64\n",
       "weight           float64\n",
       "position            int8\n",
       "games              int64\n",
       "victories          int64\n",
       "ties               int64\n",
       "defeats            int64\n",
       "goals              int64\n",
       "yellowCards        int64\n",
       "yellowReds         int64\n",
       "redCards           int64\n",
       "photoID            int16\n",
       "rater1           float64\n",
       "rater2           float64\n",
       "refNum             int64\n",
       "refCountry         int64\n",
       "Alpha_3            int16\n",
       "meanIAT          float64\n",
       "nIAT             float64\n",
       "seIAT            float64\n",
       "meanExp          float64\n",
       "nExp             float64\n",
       "seExp            float64\n",
       "dtype: object"
      ]
     },
     "execution_count": 4,
     "metadata": {},
     "output_type": "execute_result"
    }
   ],
   "source": [
    "def convertColumns(dataframe):\n",
    "    for c in dataframe.columns:\n",
    "        if not (dataframe[c].dtype in ['int64', 'float64']):\n",
    "            dataframe[c] = dataframe[c].astype('category').cat.codes\n",
    "convertColumns(data)\n",
    "data.dtypes"
   ]
  },
  {
   "cell_type": "markdown",
   "metadata": {},
   "source": [
    "We will need a function to sample the rater values as this will help to classify the data: "
   ]
  },
  {
   "cell_type": "code",
   "execution_count": 5,
   "metadata": {
    "collapsed": true
   },
   "outputs": [],
   "source": [
    "def skinLabels(rater):\n",
    "    if  rater <= 0.5:\n",
    "        rater = 0\n",
    "    else:\n",
    "        rater = 1\n",
    "    return rater"
   ]
  },
  {
   "cell_type": "markdown",
   "metadata": {},
   "source": [
    "Every string is encoded as integer by mapping each possible value to a number. We also merged the two rater values computing as the mean and stored it in `skincolor`. The `skincolor` must be sampled to 0 or 1 using the previous function:"
   ]
  },
  {
   "cell_type": "code",
   "execution_count": 6,
   "metadata": {
    "collapsed": false
   },
   "outputs": [
    {
     "data": {
      "text/html": [
       "<div>\n",
       "<table border=\"1\" class=\"dataframe\">\n",
       "  <thead>\n",
       "    <tr style=\"text-align: right;\">\n",
       "      <th></th>\n",
       "      <th>player</th>\n",
       "      <th>club</th>\n",
       "      <th>leagueCountry</th>\n",
       "      <th>birthday</th>\n",
       "      <th>height</th>\n",
       "      <th>weight</th>\n",
       "      <th>position</th>\n",
       "      <th>games</th>\n",
       "      <th>victories</th>\n",
       "      <th>ties</th>\n",
       "      <th>...</th>\n",
       "      <th>refNum</th>\n",
       "      <th>refCountry</th>\n",
       "      <th>Alpha_3</th>\n",
       "      <th>meanIAT</th>\n",
       "      <th>nIAT</th>\n",
       "      <th>seIAT</th>\n",
       "      <th>meanExp</th>\n",
       "      <th>nExp</th>\n",
       "      <th>seExp</th>\n",
       "      <th>skincolor</th>\n",
       "    </tr>\n",
       "    <tr>\n",
       "      <th>playerShort</th>\n",
       "      <th></th>\n",
       "      <th></th>\n",
       "      <th></th>\n",
       "      <th></th>\n",
       "      <th></th>\n",
       "      <th></th>\n",
       "      <th></th>\n",
       "      <th></th>\n",
       "      <th></th>\n",
       "      <th></th>\n",
       "      <th></th>\n",
       "      <th></th>\n",
       "      <th></th>\n",
       "      <th></th>\n",
       "      <th></th>\n",
       "      <th></th>\n",
       "      <th></th>\n",
       "      <th></th>\n",
       "      <th></th>\n",
       "      <th></th>\n",
       "      <th></th>\n",
       "    </tr>\n",
       "  </thead>\n",
       "  <tbody>\n",
       "    <tr>\n",
       "      <th>lucas-wilchez</th>\n",
       "      <td>1341</td>\n",
       "      <td>82</td>\n",
       "      <td>3</td>\n",
       "      <td>1714</td>\n",
       "      <td>177.0</td>\n",
       "      <td>72.0</td>\n",
       "      <td>1</td>\n",
       "      <td>1</td>\n",
       "      <td>0</td>\n",
       "      <td>0</td>\n",
       "      <td>...</td>\n",
       "      <td>1</td>\n",
       "      <td>1</td>\n",
       "      <td>60</td>\n",
       "      <td>0.326391</td>\n",
       "      <td>712.0</td>\n",
       "      <td>0.000564</td>\n",
       "      <td>0.396000</td>\n",
       "      <td>750.0</td>\n",
       "      <td>0.002696</td>\n",
       "      <td>0</td>\n",
       "    </tr>\n",
       "    <tr>\n",
       "      <th>john-utaka</th>\n",
       "      <td>1158</td>\n",
       "      <td>62</td>\n",
       "      <td>1</td>\n",
       "      <td>396</td>\n",
       "      <td>179.0</td>\n",
       "      <td>82.0</td>\n",
       "      <td>12</td>\n",
       "      <td>1</td>\n",
       "      <td>0</td>\n",
       "      <td>0</td>\n",
       "      <td>...</td>\n",
       "      <td>2</td>\n",
       "      <td>2</td>\n",
       "      <td>158</td>\n",
       "      <td>0.203375</td>\n",
       "      <td>40.0</td>\n",
       "      <td>0.010875</td>\n",
       "      <td>-0.204082</td>\n",
       "      <td>49.0</td>\n",
       "      <td>0.061504</td>\n",
       "      <td>1</td>\n",
       "    </tr>\n",
       "    <tr>\n",
       "      <th>abdon-prats</th>\n",
       "      <td>0</td>\n",
       "      <td>73</td>\n",
       "      <td>3</td>\n",
       "      <td>966</td>\n",
       "      <td>181.0</td>\n",
       "      <td>79.0</td>\n",
       "      <td>0</td>\n",
       "      <td>1</td>\n",
       "      <td>0</td>\n",
       "      <td>1</td>\n",
       "      <td>...</td>\n",
       "      <td>3</td>\n",
       "      <td>3</td>\n",
       "      <td>47</td>\n",
       "      <td>0.369894</td>\n",
       "      <td>1785.0</td>\n",
       "      <td>0.000229</td>\n",
       "      <td>0.588297</td>\n",
       "      <td>1897.0</td>\n",
       "      <td>0.001002</td>\n",
       "      <td>1</td>\n",
       "    </tr>\n",
       "    <tr>\n",
       "      <th>pablo-mari</th>\n",
       "      <td>296</td>\n",
       "      <td>73</td>\n",
       "      <td>3</td>\n",
       "      <td>1716</td>\n",
       "      <td>191.0</td>\n",
       "      <td>87.0</td>\n",
       "      <td>2</td>\n",
       "      <td>1</td>\n",
       "      <td>1</td>\n",
       "      <td>0</td>\n",
       "      <td>...</td>\n",
       "      <td>3</td>\n",
       "      <td>3</td>\n",
       "      <td>47</td>\n",
       "      <td>0.369894</td>\n",
       "      <td>1785.0</td>\n",
       "      <td>0.000229</td>\n",
       "      <td>0.588297</td>\n",
       "      <td>1897.0</td>\n",
       "      <td>0.001002</td>\n",
       "      <td>1</td>\n",
       "    </tr>\n",
       "    <tr>\n",
       "      <th>ruben-pena</th>\n",
       "      <td>355</td>\n",
       "      <td>81</td>\n",
       "      <td>3</td>\n",
       "      <td>1015</td>\n",
       "      <td>172.0</td>\n",
       "      <td>70.0</td>\n",
       "      <td>11</td>\n",
       "      <td>1</td>\n",
       "      <td>1</td>\n",
       "      <td>0</td>\n",
       "      <td>...</td>\n",
       "      <td>3</td>\n",
       "      <td>3</td>\n",
       "      <td>47</td>\n",
       "      <td>0.369894</td>\n",
       "      <td>1785.0</td>\n",
       "      <td>0.000229</td>\n",
       "      <td>0.588297</td>\n",
       "      <td>1897.0</td>\n",
       "      <td>0.001002</td>\n",
       "      <td>1</td>\n",
       "    </tr>\n",
       "  </tbody>\n",
       "</table>\n",
       "<p>5 rows × 26 columns</p>\n",
       "</div>"
      ],
      "text/plain": [
       "               player  club  leagueCountry  birthday  height  weight  \\\n",
       "playerShort                                                            \n",
       "lucas-wilchez    1341    82              3      1714   177.0    72.0   \n",
       "john-utaka       1158    62              1       396   179.0    82.0   \n",
       "abdon-prats         0    73              3       966   181.0    79.0   \n",
       "pablo-mari        296    73              3      1716   191.0    87.0   \n",
       "ruben-pena        355    81              3      1015   172.0    70.0   \n",
       "\n",
       "               position  games  victories  ties    ...      refNum  \\\n",
       "playerShort                                        ...               \n",
       "lucas-wilchez         1      1          0     0    ...           1   \n",
       "john-utaka           12      1          0     0    ...           2   \n",
       "abdon-prats           0      1          0     1    ...           3   \n",
       "pablo-mari            2      1          1     0    ...           3   \n",
       "ruben-pena           11      1          1     0    ...           3   \n",
       "\n",
       "               refCountry  Alpha_3   meanIAT    nIAT     seIAT   meanExp  \\\n",
       "playerShort                                                                \n",
       "lucas-wilchez           1       60  0.326391   712.0  0.000564  0.396000   \n",
       "john-utaka              2      158  0.203375    40.0  0.010875 -0.204082   \n",
       "abdon-prats             3       47  0.369894  1785.0  0.000229  0.588297   \n",
       "pablo-mari              3       47  0.369894  1785.0  0.000229  0.588297   \n",
       "ruben-pena              3       47  0.369894  1785.0  0.000229  0.588297   \n",
       "\n",
       "                 nExp     seExp  skincolor  \n",
       "playerShort                                 \n",
       "lucas-wilchez   750.0  0.002696          0  \n",
       "john-utaka       49.0  0.061504          1  \n",
       "abdon-prats    1897.0  0.001002          1  \n",
       "pablo-mari     1897.0  0.001002          1  \n",
       "ruben-pena     1897.0  0.001002          1  \n",
       "\n",
       "[5 rows x 26 columns]"
      ]
     },
     "execution_count": 6,
     "metadata": {},
     "output_type": "execute_result"
    }
   ],
   "source": [
    "players = data.copy()\n",
    "\n",
    "label_encoder = preprocessing.LabelEncoder()\n",
    "players['club'] = label_encoder.fit_transform(data['club'])\n",
    "players['leagueCountry'] = label_encoder.fit_transform(data['leagueCountry'])\n",
    "players['position'] = label_encoder.fit_transform(data['position'])\n",
    "players['skincolor'] = [skinLabels(x) for x in ((data['rater1']+data['rater2'])/2).values]\n",
    "players = players.dropna(axis = 0, subset=['skincolor'])\n",
    "players.drop(['rater1', 'rater2'], inplace=True, axis=1)\n",
    "players.head()"
   ]
  },
  {
   "cell_type": "markdown",
   "metadata": {},
   "source": [
    "## Task 1: Random Forest Classifier"
   ]
  },
  {
   "cell_type": "markdown",
   "metadata": {},
   "source": [
    "In this task we will use the data of the players without the referees influence. We will create a new dataframe with the columns `player`, `height`, `weight`, `club` and `position` representing the features matrix X in our Supervised ML model and the column `skincolor` representing the Y."
   ]
  },
  {
   "cell_type": "markdown",
   "metadata": {},
   "source": [
    "We also need to prepare our features. "
   ]
  },
  {
   "cell_type": "code",
   "execution_count": 7,
   "metadata": {
    "collapsed": false
   },
   "outputs": [
    {
     "name": "stdout",
     "output_type": "stream",
     "text": [
      "1022196\n"
     ]
    },
    {
     "data": {
      "text/html": [
       "<div>\n",
       "<table border=\"1\" class=\"dataframe\">\n",
       "  <thead>\n",
       "    <tr style=\"text-align: right;\">\n",
       "      <th></th>\n",
       "      <th>player</th>\n",
       "      <th>height</th>\n",
       "      <th>weight</th>\n",
       "      <th>club</th>\n",
       "      <th>leagueCountry</th>\n",
       "      <th>position</th>\n",
       "      <th>skincolor</th>\n",
       "    </tr>\n",
       "    <tr>\n",
       "      <th>playerShort</th>\n",
       "      <th></th>\n",
       "      <th></th>\n",
       "      <th></th>\n",
       "      <th></th>\n",
       "      <th></th>\n",
       "      <th></th>\n",
       "      <th></th>\n",
       "    </tr>\n",
       "  </thead>\n",
       "  <tbody>\n",
       "    <tr>\n",
       "      <th>lucas-wilchez</th>\n",
       "      <td>1341</td>\n",
       "      <td>177.0</td>\n",
       "      <td>72.0</td>\n",
       "      <td>82</td>\n",
       "      <td>3</td>\n",
       "      <td>1</td>\n",
       "      <td>0</td>\n",
       "    </tr>\n",
       "    <tr>\n",
       "      <th>john-utaka</th>\n",
       "      <td>1158</td>\n",
       "      <td>179.0</td>\n",
       "      <td>82.0</td>\n",
       "      <td>62</td>\n",
       "      <td>1</td>\n",
       "      <td>12</td>\n",
       "      <td>1</td>\n",
       "    </tr>\n",
       "    <tr>\n",
       "      <th>abdon-prats</th>\n",
       "      <td>0</td>\n",
       "      <td>181.0</td>\n",
       "      <td>79.0</td>\n",
       "      <td>73</td>\n",
       "      <td>3</td>\n",
       "      <td>0</td>\n",
       "      <td>1</td>\n",
       "    </tr>\n",
       "    <tr>\n",
       "      <th>pablo-mari</th>\n",
       "      <td>296</td>\n",
       "      <td>191.0</td>\n",
       "      <td>87.0</td>\n",
       "      <td>73</td>\n",
       "      <td>3</td>\n",
       "      <td>2</td>\n",
       "      <td>1</td>\n",
       "    </tr>\n",
       "    <tr>\n",
       "      <th>ruben-pena</th>\n",
       "      <td>355</td>\n",
       "      <td>172.0</td>\n",
       "      <td>70.0</td>\n",
       "      <td>81</td>\n",
       "      <td>3</td>\n",
       "      <td>11</td>\n",
       "      <td>1</td>\n",
       "    </tr>\n",
       "  </tbody>\n",
       "</table>\n",
       "</div>"
      ],
      "text/plain": [
       "               player  height  weight  club  leagueCountry  position  \\\n",
       "playerShort                                                            \n",
       "lucas-wilchez    1341   177.0    72.0    82              3         1   \n",
       "john-utaka       1158   179.0    82.0    62              1        12   \n",
       "abdon-prats         0   181.0    79.0    73              3         0   \n",
       "pablo-mari        296   191.0    87.0    73              3         2   \n",
       "ruben-pena        355   172.0    70.0    81              3        11   \n",
       "\n",
       "               skincolor  \n",
       "playerShort               \n",
       "lucas-wilchez          0  \n",
       "john-utaka             1  \n",
       "abdon-prats            1  \n",
       "pablo-mari             1  \n",
       "ruben-pena             1  "
      ]
     },
     "execution_count": 7,
     "metadata": {},
     "output_type": "execute_result"
    }
   ],
   "source": [
    "players_wr = players[['player', 'height', 'weight', 'club', 'leagueCountry', 'position', 'skincolor']].copy()\n",
    "print(players_wr.size)\n",
    "players_wr.head()"
   ]
  },
  {
   "cell_type": "markdown",
   "metadata": {},
   "source": [
    "We drop the duplicates. Also, the NA values must be procesed, we computed the missing values as the mean of the non-missing values. We also standarized the `height` and `weight` values.  "
   ]
  },
  {
   "cell_type": "code",
   "execution_count": 8,
   "metadata": {
    "collapsed": false
   },
   "outputs": [
    {
     "name": "stderr",
     "output_type": "stream",
     "text": [
      "/Users/dmartr/anaconda/lib/python3.5/site-packages/pandas/core/indexing.py:476: SettingWithCopyWarning: \n",
      "A value is trying to be set on a copy of a slice from a DataFrame.\n",
      "Try using .loc[row_indexer,col_indexer] = value instead\n",
      "\n",
      "See the caveats in the documentation: http://pandas.pydata.org/pandas-docs/stable/indexing.html#indexing-view-versus-copy\n",
      "  self.obj[item] = s\n"
     ]
    }
   ],
   "source": [
    "new_players_wr = players_wr.drop_duplicates(['player'], keep='first')\n",
    "\n",
    "new_players_wr.loc[:, 'height'] = new_players_wr.loc[:, 'height'].fillna(np.mean(new_players_wr.loc[:, 'height'].dropna()))\n",
    "new_players_wr.loc[:, 'weight'] = new_players_wr.loc[:, 'weight'].fillna(np.mean(new_players_wr.loc[:, 'weight'].dropna()))\n",
    "new_players_wr.loc[:, 'club'] = new_players_wr.loc[:, 'club'].fillna(np.mean(new_players_wr.loc[:, 'club'].dropna()))\n",
    "new_players_wr.loc[:, 'leagueCountry'] = new_players_wr.loc[:, 'leagueCountry'].fillna(np.mean(new_players_wr.loc[:, 'leagueCountry'].dropna()))\n",
    "new_players_wr.loc[:, 'position'] = new_players_wr.loc[:, 'position'].fillna(np.mean(new_players_wr.loc[:, 'position'].dropna()))"
   ]
  },
  {
   "cell_type": "markdown",
   "metadata": {},
   "source": [
    "The height and weight values needs to be standarized."
   ]
  },
  {
   "cell_type": "code",
   "execution_count": 9,
   "metadata": {
    "collapsed": false
   },
   "outputs": [
    {
     "name": "stderr",
     "output_type": "stream",
     "text": [
      "/Users/dmartr/anaconda/lib/python3.5/site-packages/ipykernel/__main__.py:1: SettingWithCopyWarning: \n",
      "A value is trying to be set on a copy of a slice from a DataFrame.\n",
      "Try using .loc[row_indexer,col_indexer] = value instead\n",
      "\n",
      "See the caveats in the documentation: http://pandas.pydata.org/pandas-docs/stable/indexing.html#indexing-view-versus-copy\n",
      "  if __name__ == '__main__':\n",
      "/Users/dmartr/anaconda/lib/python3.5/site-packages/ipykernel/__main__.py:2: SettingWithCopyWarning: \n",
      "A value is trying to be set on a copy of a slice from a DataFrame.\n",
      "Try using .loc[row_indexer,col_indexer] = value instead\n",
      "\n",
      "See the caveats in the documentation: http://pandas.pydata.org/pandas-docs/stable/indexing.html#indexing-view-versus-copy\n",
      "  from ipykernel import kernelapp as app\n"
     ]
    }
   ],
   "source": [
    "new_players_wr['height'] = (new_players_wr['height']-new_players_wr['height'].mean())/new_players_wr['height'].std()\n",
    "new_players_wr['weight'] = (new_players_wr['weight']-new_players_wr['weight'].mean())/new_players_wr['weight'].std()"
   ]
  },
  {
   "cell_type": "code",
   "execution_count": 10,
   "metadata": {
    "collapsed": false
   },
   "outputs": [
    {
     "data": {
      "text/html": [
       "<div>\n",
       "<table border=\"1\" class=\"dataframe\">\n",
       "  <thead>\n",
       "    <tr style=\"text-align: right;\">\n",
       "      <th></th>\n",
       "      <th>player</th>\n",
       "      <th>height</th>\n",
       "      <th>weight</th>\n",
       "      <th>club</th>\n",
       "      <th>leagueCountry</th>\n",
       "      <th>position</th>\n",
       "      <th>skincolor</th>\n",
       "    </tr>\n",
       "    <tr>\n",
       "      <th>playerShort</th>\n",
       "      <th></th>\n",
       "      <th></th>\n",
       "      <th></th>\n",
       "      <th></th>\n",
       "      <th></th>\n",
       "      <th></th>\n",
       "      <th></th>\n",
       "    </tr>\n",
       "  </thead>\n",
       "  <tbody>\n",
       "    <tr>\n",
       "      <th>lucas-wilchez</th>\n",
       "      <td>1341</td>\n",
       "      <td>-0.713788</td>\n",
       "      <td>-0.525389</td>\n",
       "      <td>82</td>\n",
       "      <td>3</td>\n",
       "      <td>1</td>\n",
       "      <td>0</td>\n",
       "    </tr>\n",
       "    <tr>\n",
       "      <th>john-utaka</th>\n",
       "      <td>1158</td>\n",
       "      <td>-0.414138</td>\n",
       "      <td>0.907424</td>\n",
       "      <td>62</td>\n",
       "      <td>1</td>\n",
       "      <td>12</td>\n",
       "      <td>1</td>\n",
       "    </tr>\n",
       "    <tr>\n",
       "      <th>abdon-prats</th>\n",
       "      <td>0</td>\n",
       "      <td>-0.114489</td>\n",
       "      <td>0.477580</td>\n",
       "      <td>73</td>\n",
       "      <td>3</td>\n",
       "      <td>0</td>\n",
       "      <td>1</td>\n",
       "    </tr>\n",
       "    <tr>\n",
       "      <th>pablo-mari</th>\n",
       "      <td>296</td>\n",
       "      <td>1.383759</td>\n",
       "      <td>1.623830</td>\n",
       "      <td>73</td>\n",
       "      <td>3</td>\n",
       "      <td>2</td>\n",
       "      <td>1</td>\n",
       "    </tr>\n",
       "    <tr>\n",
       "      <th>ruben-pena</th>\n",
       "      <td>355</td>\n",
       "      <td>-1.462912</td>\n",
       "      <td>-0.811952</td>\n",
       "      <td>81</td>\n",
       "      <td>3</td>\n",
       "      <td>11</td>\n",
       "      <td>1</td>\n",
       "    </tr>\n",
       "  </tbody>\n",
       "</table>\n",
       "</div>"
      ],
      "text/plain": [
       "               player    height    weight  club  leagueCountry  position  \\\n",
       "playerShort                                                                \n",
       "lucas-wilchez    1341 -0.713788 -0.525389    82              3         1   \n",
       "john-utaka       1158 -0.414138  0.907424    62              1        12   \n",
       "abdon-prats         0 -0.114489  0.477580    73              3         0   \n",
       "pablo-mari        296  1.383759  1.623830    73              3         2   \n",
       "ruben-pena        355 -1.462912 -0.811952    81              3        11   \n",
       "\n",
       "               skincolor  \n",
       "playerShort               \n",
       "lucas-wilchez          0  \n",
       "john-utaka             1  \n",
       "abdon-prats            1  \n",
       "pablo-mari             1  \n",
       "ruben-pena             1  "
      ]
     },
     "execution_count": 10,
     "metadata": {},
     "output_type": "execute_result"
    }
   ],
   "source": [
    "new_players_wr.head()"
   ]
  },
  {
   "cell_type": "markdown",
   "metadata": {},
   "source": [
    "We create the Random Forest using different combinations of parameters and perform a cross validations to compare them: "
   ]
  },
  {
   "cell_type": "code",
   "execution_count": 11,
   "metadata": {
    "collapsed": false
   },
   "outputs": [],
   "source": [
    "X = new_players_wr.drop(['skincolor'], axis=1)\n",
    "Y = new_players_wr['skincolor']"
   ]
  },
  {
   "cell_type": "code",
   "execution_count": 12,
   "metadata": {
    "collapsed": false
   },
   "outputs": [
    {
     "name": "stdout",
     "output_type": "stream",
     "text": [
      "0.744814220797 0.0413940826165\n"
     ]
    }
   ],
   "source": [
    "x_train, x_test, y_train, y_test = train_test_split(X, Y, test_size=0.15, random_state=666)\n",
    "k_fold = KFold(x_train.shape[0], n_folds = 20, shuffle=True)\n",
    "scores = []\n",
    "importances = np.zeros(5)\n",
    "for train_indices, test_indices in k_fold:\n",
    "    rf = RandomForestClassifier(n_estimators=20)\n",
    "    rf.fit(x_train.iloc[train_indices][['height','weight','club', 'leagueCountry','position']], y_train[train_indices])\n",
    "    score = rf.score(x_train.iloc[test_indices][['height','weight','club', 'leagueCountry','position']], y_train[test_indices])\n",
    "    importance = np.asarray(rf.feature_importances_)\n",
    "    scores.append(score)\n",
    "    importances = np.add(importances,importance)\n",
    "\n",
    "print(np.array(scores).mean(), np.array(scores).std())"
   ]
  },
  {
   "cell_type": "code",
   "execution_count": 13,
   "metadata": {
    "collapsed": false
   },
   "outputs": [
    {
     "name": "stdout",
     "output_type": "stream",
     "text": [
      "0.751633986928\n"
     ]
    }
   ],
   "source": [
    "rf = RandomForestClassifier(n_estimators=20)\n",
    "rf.fit(x_train[['height','weight','club', 'leagueCountry','position']], y_train)\n",
    "print(rf.score(x_test[['height','weight','club', 'leagueCountry','position']], y_test))"
   ]
  },
  {
   "cell_type": "code",
   "execution_count": 14,
   "metadata": {
    "collapsed": false
   },
   "outputs": [
    {
     "name": "stdout",
     "output_type": "stream",
     "text": [
      "Feature ranking (1. most important):\n",
      "1. Feature name: 'weight'. Feature index: 2. Importance score: 0.239036\n",
      "2. Feature name: 'height'. Feature index: 1. Importance score: 0.202658\n",
      "3. Feature name: 'leagueCountry'. Feature index: 4. Importance score: 0.192630\n",
      "4. Feature name: 'player'. Feature index: 0. Importance score: 0.189268\n",
      "5. Feature name: 'club'. Feature index: 3. Importance score: 0.176408\n"
     ]
    },
    {
     "data": {
      "image/png": "[encoded data removed]",
      "text/plain": [
       "<matplotlib.figure.Figure at 0x10f643588>"
      ]
     },
     "metadata": {},
     "output_type": "display_data"
    }
   ],
   "source": [
    "def plot_importance(forest, features_list):\n",
    "    features = x_train[features_list].columns\n",
    "    importances = forest.feature_importances_\n",
    "    order = np.argsort(importances)[::-1]\n",
    "    print(\"Feature ranking (1. most important):\")\n",
    "    for i in range(X.shape[1]-1):\n",
    "        print(\"%d. Feature name: '%s'. Feature index: %d. Importance score: %f\" % (i + 1, features[order[i]], order[i], importances[order[i]]))\n",
    "    plt.figure()\n",
    "    plt.title(\"Feature importance\")\n",
    "    plt.xlabel(\"Feature index\")\n",
    "    plt.ylabel(\"Score\")\n",
    "    plt.bar(range(X.shape[1]-1), importances[order], color=\"b\", align=\"center\")\n",
    "    plt.show()\n",
    "\n",
    "plot_importance(rf, x_train.columns.tolist())"
   ]
  },
  {
   "cell_type": "markdown",
   "metadata": {},
   "source": [
    "As a conclusion, we show the results for the Random Forest Classifier with two diferents feature sets (with the referee information and without it) in a 20-Fold cross-validation (this results are obtained by using the X showed before or the X obtained in the next task):"
   ]
  },
  {
   "cell_type": "code",
   "execution_count": 24,
   "metadata": {
    "collapsed": false
   },
   "outputs": [
    {
     "name": "stdout",
     "output_type": "stream",
     "text": [
      "0.797238955823 0.0344436100537\n"
     ]
    }
   ],
   "source": [
    "new_players_wr = players.copy()\n",
    "new_players_wr.reset_index(inplace=True, drop=False)\n",
    "new_players_wr.drop(['player', 'photoID', 'birthday', \"refNum\", \"refCountry\"], inplace=True, axis=1)\n",
    "new_players_wr.columns\n",
    "new_players_wr = new_players_wr.groupby([\"playerShort\",\"club\",\"leagueCountry\", \"position\"])\n",
    "groups = {'height' : np.mean, 'weight' : np.mean, 'games' : np.sum, 'victories' : np.sum, \n",
    "                 'ties' : np.sum, 'defeats' : np.sum, 'goals' : np.sum, 'yellowCards' : np.sum, \n",
    "                 'redCards' : np.sum, 'skincolor' : np.mean, 'meanIAT': np.mean, 'meanExp': np.mean, 'seIAT': np.mean, \n",
    "                 'seExp': np.mean}\n",
    "new_players_wr = new_players_wr.agg(groups)\n",
    "new_players_wr.dropna(inplace=True)\n",
    "\n",
    "X = new_players_wr.drop(['skincolor'], axis=1)\n",
    "Y = new_players_wr['skincolor']\n",
    "\n",
    "x_train, x_test, y_train, y_test = train_test_split(X, Y, test_size=0.15, random_state=666)\n",
    "k_fold = KFold(x_train.shape[0], n_folds = 20, shuffle=True)\n",
    "scores = []\n",
    "for train_indices, test_indices in k_fold:\n",
    "    rf = RandomForestClassifier(n_estimators=20)\n",
    "    rf.fit(x_train.iloc[train_indices][X.columns.tolist()], y_train[train_indices])\n",
    "    score = rf.score(x_train.iloc[test_indices][X.columns.tolist()], y_train[test_indices])\n",
    "    importance = np.asarray(rf.feature_importances_)\n",
    "    scores.append(score)\n",
    "\n",
    "print(np.array(scores).mean(), np.array(scores).std())"
   ]
  },
  {
   "cell_type": "markdown",
   "metadata": {},
   "source": [
    "To sum it up the results were: \n",
    "\n",
    "1. First RF (without referee info agg): Accuracies mean = 0.728080727078  Standard deviation = 0.046612632558\n",
    "2. Second RF (with referee info agg): Accuracies mean = 0.797238955823   Standard deviation  = 0.0344436100537\n",
    "\n",
    "We can appreciate that the Second Classifier is better than the second. To know if the RF Classifier is strong we can take a look at the STD of the scores in each tr. It actually obtains less STD than the accurary in each fold. Then, we can say that Classifier is strong because it makes the same performance in each folder. The second Classifier obtained increases 0,072 the accuracy and wins 0,01 in strength compared to the first classifier."
   ]
  },
  {
   "cell_type": "markdown",
   "metadata": {
    "collapsed": false
   },
   "source": [
    "## Task 1 bonus: Plot the learning curves"
   ]
  },
  {
   "cell_type": "markdown",
   "metadata": {},
   "source": [
    "Looking the scikit-learn learning curves documentation: http://scikit-learn.org/stable/auto_examples/model_selection/plot_learning_curve.html"
   ]
  },
  {
   "cell_type": "code",
   "execution_count": 18,
   "metadata": {
    "collapsed": false
   },
   "outputs": [],
   "source": [
    "from sklearn.learning_curve import learning_curve \n",
    "def plotLearningCurves (estimator, x, y):\n",
    "    plt.figure()\n",
    "    plt.title('Learning curves')\n",
    "    plt.xlabel(\"Training examples\")\n",
    "    plt.ylabel(\"Score\")\n",
    "    train_sizes, train_scores, test_scores = learning_curve(estimator, x, y, cv=20, n_jobs=1, train_sizes=np.linspace(.1, 1.0, 5))\n",
    "    train_scores_mean = np.mean(train_scores, axis=1)\n",
    "    train_scores_std = np.std(train_scores, axis=1)\n",
    "    test_scores_mean = np.mean(test_scores, axis=1)\n",
    "    test_scores_std = np.std(test_scores, axis=1)\n",
    "    plt.grid()\n",
    "    plt.plot(train_sizes, train_scores_mean, 'o-', color=\"b\", label=\"Training\")\n",
    "    plt.plot(train_sizes, test_scores_mean, 'o-', color=\"g\", label=\"Cross-validation\")\n",
    "    plt.fill_between(train_sizes, train_scores_mean - train_scores_std,\n",
    "                     train_scores_mean + train_scores_std, alpha=0.1,\n",
    "                     color=\"b\")\n",
    "    plt.fill_between(train_sizes, test_scores_mean - test_scores_std,\n",
    "                     test_scores_mean + test_scores_std, alpha=0.1, color=\"g\")\n",
    "    return plt"
   ]
  },
  {
   "cell_type": "code",
   "execution_count": 19,
   "metadata": {
    "collapsed": false
   },
   "outputs": [
    {
     "data": {
      "text/plain": [
       "<module 'matplotlib.pyplot' from '/Users/dmartr/anaconda/lib/python3.5/site-packages/matplotlib/pyplot.py'>"
      ]
     },
     "execution_count": 19,
     "metadata": {},
     "output_type": "execute_result"
    },
    {
     "data": {
      "image/png": "[encoded data removed]",
      "text/plain": [
       "<matplotlib.figure.Figure at 0x10ebca588>"
      ]
     },
     "metadata": {},
     "output_type": "display_data"
    }
   ],
   "source": [
    "plotLearningCurves(rf, x_train[['height','weight','club', 'leagueCountry','position']], y_train)"
   ]
  },
  {
   "cell_type": "code",
   "execution_count": 20,
   "metadata": {
    "collapsed": false
   },
   "outputs": [
    {
     "data": {
      "text/plain": [
       "<module 'matplotlib.pyplot' from '/Users/dmartr/anaconda/lib/python3.5/site-packages/matplotlib/pyplot.py'>"
      ]
     },
     "execution_count": 20,
     "metadata": {},
     "output_type": "execute_result"
    },
    {
     "data": {
      "image/png": "[encoded data removed]",
      "text/plain": [
       "<matplotlib.figure.Figure at 0x10ecbccf8>"
      ]
     },
     "metadata": {},
     "output_type": "display_data"
    }
   ],
   "source": [
    "rf2 = rf = RandomForestClassifier(n_estimators=50, max_depth=30)\n",
    "plotLearningCurves(rf2, x_train[['height','weight','club', 'leagueCountry','position']], y_train)"
   ]
  },
  {
   "cell_type": "markdown",
   "metadata": {
    "collapsed": true
   },
   "source": [
    "## Task 2: Unsupervised learning"
   ]
  },
  {
   "cell_type": "markdown",
   "metadata": {},
   "source": [
    "In this task we want to cluster all the players with the referee data aggregated. To that we will work with most of the features. We drop the ones that gives us no information. The `player` column is dropped because we will use `playershort` instead for identify players. `photoID` and `bithday` are dropped because they give no releant information. `refNum` and `refCountry` are dropped because we are aggregating all the referee data for every player.  "
   ]
  },
  {
   "cell_type": "code",
   "execution_count": 25,
   "metadata": {
    "collapsed": false,
    "scrolled": true
   },
   "outputs": [],
   "source": [
    "def clean_data(players_grp):\n",
    "    players_grp.reset_index(inplace=True, drop=False)\n",
    "    players_grp.drop(['player', 'photoID', 'birthday', \"refNum\", \"refCountry\"], inplace=True, axis=1)\n",
    "    print(players_grp.columns)\n",
    "    players_grp = players_grp.groupby([\"playerShort\",\"club\",\"leagueCountry\", \"position\"])\n",
    "    groups = {'height' : np.mean, 'weight' : np.mean, 'games' : np.sum, 'victories' : np.sum, \n",
    "                     'ties' : np.sum, 'defeats' : np.sum, 'goals' : np.sum, 'yellowCards' : np.sum, \n",
    "                     'redCards' : np.sum, 'skincolor' : np.mean, 'meanIAT': np.mean, 'meanExp': np.mean, 'seIAT': np.mean, \n",
    "                     'seExp': np.mean}\n",
    "    players_grp = players_grp.agg(groups)\n",
    "    return players_grp"
   ]
  },
  {
   "cell_type": "markdown",
   "metadata": {},
   "source": [
    "In our model the X is the all the features:"
   ]
  },
  {
   "cell_type": "code",
   "execution_count": 26,
   "metadata": {
    "collapsed": false
   },
   "outputs": [
    {
     "name": "stdout",
     "output_type": "stream",
     "text": [
      "Index(['playerShort', 'club', 'leagueCountry', 'height', 'weight', 'position',\n",
      "       'games', 'victories', 'ties', 'defeats', 'goals', 'yellowCards',\n",
      "       'yellowReds', 'redCards', 'Alpha_3', 'meanIAT', 'nIAT', 'seIAT',\n",
      "       'meanExp', 'nExp', 'seExp', 'skincolor'],\n",
      "      dtype='object')\n"
     ]
    }
   ],
   "source": [
    "X = clean_data(players.copy())._get_numeric_data()"
   ]
  },
  {
   "cell_type": "markdown",
   "metadata": {},
   "source": [
    "To perform the learning task, we decided to use a kmeans classifier with k=2 because we have unlabeled data (we want to cluster the data en 2 clusters). To study the importance of every feature we clustered the data multiple times, each time dropping a feature (different from skincolor, as this is our most important feature) and calculated the silhoutte score."
   ]
  },
  {
   "cell_type": "code",
   "execution_count": 27,
   "metadata": {
    "collapsed": false
   },
   "outputs": [
    {
     "ename": "ValueError",
     "evalue": "Input contains NaN, infinity or a value too large for dtype('float64').",
     "output_type": "error",
     "traceback": [
      "\u001b[0;31m---------------------------------------------------------------------------\u001b[0m",
      "\u001b[0;31mValueError\u001b[0m                                Traceback (most recent call last)",
      "\u001b[0;32m<ipython-input-27-ffa7104fa64f>\u001b[0m in \u001b[0;36m<module>\u001b[0;34m()\u001b[0m\n\u001b[1;32m      6\u001b[0m     \u001b[0;32mif\u001b[0m\u001b[0;34m(\u001b[0m\u001b[0mX\u001b[0m\u001b[0;34m.\u001b[0m\u001b[0mcolumns\u001b[0m\u001b[0;34m[\u001b[0m\u001b[0mi\u001b[0m\u001b[0;34m]\u001b[0m \u001b[0;34m!=\u001b[0m \u001b[0;34m'skincolor'\u001b[0m\u001b[0;34m)\u001b[0m\u001b[0;34m:\u001b[0m\u001b[0;34m\u001b[0m\u001b[0m\n\u001b[1;32m      7\u001b[0m         \u001b[0mX\u001b[0m \u001b[0;34m=\u001b[0m \u001b[0mX\u001b[0m\u001b[0;34m.\u001b[0m\u001b[0mdrop\u001b[0m\u001b[0;34m(\u001b[0m\u001b[0mX\u001b[0m\u001b[0;34m.\u001b[0m\u001b[0mcolumns\u001b[0m\u001b[0;34m[\u001b[0m\u001b[0mi\u001b[0m\u001b[0;34m]\u001b[0m\u001b[0;34m,\u001b[0m \u001b[0maxis\u001b[0m\u001b[0;34m=\u001b[0m\u001b[0;36m1\u001b[0m\u001b[0;34m)\u001b[0m\u001b[0;34m\u001b[0m\u001b[0m\n\u001b[0;32m----> 8\u001b[0;31m         \u001b[0mkmean\u001b[0m\u001b[0;34m.\u001b[0m\u001b[0mfit\u001b[0m\u001b[0;34m(\u001b[0m\u001b[0mX\u001b[0m\u001b[0;34m)\u001b[0m\u001b[0;34m\u001b[0m\u001b[0m\n\u001b[0m\u001b[1;32m      9\u001b[0m         \u001b[0mlabels\u001b[0m \u001b[0;34m=\u001b[0m \u001b[0mkmean\u001b[0m\u001b[0;34m.\u001b[0m\u001b[0mlabels_\u001b[0m\u001b[0;34m\u001b[0m\u001b[0m\n\u001b[1;32m     10\u001b[0m         \u001b[0mprint\u001b[0m\u001b[0;34m(\u001b[0m\u001b[0;34m\"Features:\"\u001b[0m\u001b[0;34m,\u001b[0m \u001b[0mX\u001b[0m\u001b[0;34m.\u001b[0m\u001b[0mcolumns\u001b[0m\u001b[0;34m.\u001b[0m\u001b[0mtolist\u001b[0m\u001b[0;34m(\u001b[0m\u001b[0;34m)\u001b[0m\u001b[0;34m)\u001b[0m\u001b[0;34m\u001b[0m\u001b[0m\n",
      "\u001b[0;32m/Users/dmartr/anaconda/lib/python3.5/site-packages/sklearn/cluster/k_means_.py\u001b[0m in \u001b[0;36mfit\u001b[0;34m(self, X, y)\u001b[0m\n\u001b[1;32m    878\u001b[0m         \"\"\"\n\u001b[1;32m    879\u001b[0m         \u001b[0mrandom_state\u001b[0m \u001b[0;34m=\u001b[0m \u001b[0mcheck_random_state\u001b[0m\u001b[0;34m(\u001b[0m\u001b[0mself\u001b[0m\u001b[0;34m.\u001b[0m\u001b[0mrandom_state\u001b[0m\u001b[0;34m)\u001b[0m\u001b[0;34m\u001b[0m\u001b[0m\n\u001b[0;32m--> 880\u001b[0;31m         \u001b[0mX\u001b[0m \u001b[0;34m=\u001b[0m \u001b[0mself\u001b[0m\u001b[0;34m.\u001b[0m\u001b[0m_check_fit_data\u001b[0m\u001b[0;34m(\u001b[0m\u001b[0mX\u001b[0m\u001b[0;34m)\u001b[0m\u001b[0;34m\u001b[0m\u001b[0m\n\u001b[0m\u001b[1;32m    881\u001b[0m \u001b[0;34m\u001b[0m\u001b[0m\n\u001b[1;32m    882\u001b[0m         \u001b[0mself\u001b[0m\u001b[0;34m.\u001b[0m\u001b[0mcluster_centers_\u001b[0m\u001b[0;34m,\u001b[0m \u001b[0mself\u001b[0m\u001b[0;34m.\u001b[0m\u001b[0mlabels_\u001b[0m\u001b[0;34m,\u001b[0m \u001b[0mself\u001b[0m\u001b[0;34m.\u001b[0m\u001b[0minertia_\u001b[0m\u001b[0;34m,\u001b[0m \u001b[0mself\u001b[0m\u001b[0;34m.\u001b[0m\u001b[0mn_iter_\u001b[0m \u001b[0;34m=\u001b[0m\u001b[0;31m \u001b[0m\u001b[0;31m\\\u001b[0m\u001b[0;34m\u001b[0m\u001b[0m\n",
      "\u001b[0;32m/Users/dmartr/anaconda/lib/python3.5/site-packages/sklearn/cluster/k_means_.py\u001b[0m in \u001b[0;36m_check_fit_data\u001b[0;34m(self, X)\u001b[0m\n\u001b[1;32m    852\u001b[0m     \u001b[0;32mdef\u001b[0m \u001b[0m_check_fit_data\u001b[0m\u001b[0;34m(\u001b[0m\u001b[0mself\u001b[0m\u001b[0;34m,\u001b[0m \u001b[0mX\u001b[0m\u001b[0;34m)\u001b[0m\u001b[0;34m:\u001b[0m\u001b[0;34m\u001b[0m\u001b[0m\n\u001b[1;32m    853\u001b[0m         \u001b[0;34m\"\"\"Verify that the number of samples given is larger than k\"\"\"\u001b[0m\u001b[0;34m\u001b[0m\u001b[0m\n\u001b[0;32m--> 854\u001b[0;31m         \u001b[0mX\u001b[0m \u001b[0;34m=\u001b[0m \u001b[0mcheck_array\u001b[0m\u001b[0;34m(\u001b[0m\u001b[0mX\u001b[0m\u001b[0;34m,\u001b[0m \u001b[0maccept_sparse\u001b[0m\u001b[0;34m=\u001b[0m\u001b[0;34m'csr'\u001b[0m\u001b[0;34m,\u001b[0m \u001b[0mdtype\u001b[0m\u001b[0;34m=\u001b[0m\u001b[0;34m[\u001b[0m\u001b[0mnp\u001b[0m\u001b[0;34m.\u001b[0m\u001b[0mfloat64\u001b[0m\u001b[0;34m,\u001b[0m \u001b[0mnp\u001b[0m\u001b[0;34m.\u001b[0m\u001b[0mfloat32\u001b[0m\u001b[0;34m]\u001b[0m\u001b[0;34m)\u001b[0m\u001b[0;34m\u001b[0m\u001b[0m\n\u001b[0m\u001b[1;32m    855\u001b[0m         \u001b[0;32mif\u001b[0m \u001b[0mX\u001b[0m\u001b[0;34m.\u001b[0m\u001b[0mshape\u001b[0m\u001b[0;34m[\u001b[0m\u001b[0;36m0\u001b[0m\u001b[0;34m]\u001b[0m \u001b[0;34m<\u001b[0m \u001b[0mself\u001b[0m\u001b[0;34m.\u001b[0m\u001b[0mn_clusters\u001b[0m\u001b[0;34m:\u001b[0m\u001b[0;34m\u001b[0m\u001b[0m\n\u001b[1;32m    856\u001b[0m             raise ValueError(\"n_samples=%d should be >= n_clusters=%d\" % (\n",
      "\u001b[0;32m/Users/dmartr/anaconda/lib/python3.5/site-packages/sklearn/utils/validation.py\u001b[0m in \u001b[0;36mcheck_array\u001b[0;34m(array, accept_sparse, dtype, order, copy, force_all_finite, ensure_2d, allow_nd, ensure_min_samples, ensure_min_features, warn_on_dtype, estimator)\u001b[0m\n\u001b[1;32m    405\u001b[0m                              % (array.ndim, estimator_name))\n\u001b[1;32m    406\u001b[0m         \u001b[0;32mif\u001b[0m \u001b[0mforce_all_finite\u001b[0m\u001b[0;34m:\u001b[0m\u001b[0;34m\u001b[0m\u001b[0m\n\u001b[0;32m--> 407\u001b[0;31m             \u001b[0m_assert_all_finite\u001b[0m\u001b[0;34m(\u001b[0m\u001b[0marray\u001b[0m\u001b[0;34m)\u001b[0m\u001b[0;34m\u001b[0m\u001b[0m\n\u001b[0m\u001b[1;32m    408\u001b[0m \u001b[0;34m\u001b[0m\u001b[0m\n\u001b[1;32m    409\u001b[0m     \u001b[0mshape_repr\u001b[0m \u001b[0;34m=\u001b[0m \u001b[0m_shape_repr\u001b[0m\u001b[0;34m(\u001b[0m\u001b[0marray\u001b[0m\u001b[0;34m.\u001b[0m\u001b[0mshape\u001b[0m\u001b[0;34m)\u001b[0m\u001b[0;34m\u001b[0m\u001b[0m\n",
      "\u001b[0;32m/Users/dmartr/anaconda/lib/python3.5/site-packages/sklearn/utils/validation.py\u001b[0m in \u001b[0;36m_assert_all_finite\u001b[0;34m(X)\u001b[0m\n\u001b[1;32m     56\u001b[0m             and not np.isfinite(X).all()):\n\u001b[1;32m     57\u001b[0m         raise ValueError(\"Input contains NaN, infinity\"\n\u001b[0;32m---> 58\u001b[0;31m                          \" or a value too large for %r.\" % X.dtype)\n\u001b[0m\u001b[1;32m     59\u001b[0m \u001b[0;34m\u001b[0m\u001b[0m\n\u001b[1;32m     60\u001b[0m \u001b[0;34m\u001b[0m\u001b[0m\n",
      "\u001b[0;31mValueError\u001b[0m: Input contains NaN, infinity or a value too large for dtype('float64')."
     ]
    }
   ],
   "source": [
    "kmean = KMeans(n_clusters=2, init='k-means++', n_init=10, max_iter=500, tol=0.0001, precompute_distances='auto', verbose=0, random_state=None, copy_x=True, n_jobs=1)\n",
    "pca = PCA(2)\n",
    "silhouette_scores = []\n",
    "avg_skintones = []\n",
    "for i in range (X.shape[1]-1, 1, -1):\n",
    "    if(X.columns[i] != 'skincolor'):\n",
    "        X = X.drop(X.columns[i], axis=1)\n",
    "        kmean.fit(X)\n",
    "        labels = kmean.labels_\n",
    "        print(\"Features:\", X.columns.tolist())\n",
    "        print(\"Silhoutte score:\", sklearn.metrics.silhouette_score(X, labels, metric='euclidean'))\n",
    "        print(\"Skincolor average:\",X.groupby(labels).mean()['skincolor'].values)\n",
    "        #plotting of the clusters\n",
    "        plot_columns = pca.fit_transform(X)\n",
    "        plt.scatter(x=plot_columns[:,0], y=plot_columns[:,1], c=labels)\n",
    "        plt.show()\n"
   ]
  },
  {
   "cell_type": "markdown",
   "metadata": {
    "collapsed": true
   },
   "source": [
    "It seems that the combinations of the features `seIAT`, `meanExp`, `games` and `skincolor` returns a classifier with a good silhoutte score and the two clusters are perfectly differentiated. "
   ]
  }
 ],
 "metadata": {
  "anaconda-cloud": {},
  "kernelspec": {
   "display_name": "Python [Root]",
   "language": "python",
   "name": "Python [Root]"
  },
  "language_info": {
   "codemirror_mode": {
    "name": "ipython",
    "version": 3
   },
   "file_extension": ".py",
   "mimetype": "text/x-python",
   "name": "python",
   "nbconvert_exporter": "python",
   "pygments_lexer": "ipython3",
   "version": "3.5.2"
  }
 },
 "nbformat": 4,
 "nbformat_minor": 0
}
